{
 "cells": [
  {
   "cell_type": "code",
   "execution_count": 55,
   "outputs": [
    {
     "name": "stdout",
     "output_type": "stream",
     "text": [
      "men = {'polyurethane': 15, 'canvas': 3, 'polyester': 13, 'cow-leather': 3, 'raffia': 1, 'goat-leather': 0}\n",
      "women = {'polyurethane': 19, 'canvas': 15, 'polyester': 11, 'cow-leather': 84, 'raffia': 19, 'goat-leather': 13}\n"
     ]
    }
   ],
   "source": [
    "# Codice per estrarre i supporti dei materiali con meno di 100 occorrenze in totale.\n",
    "# Vengono estratte le occorrenze sia per uomini che per donne, in modo da poter mantenere\n",
    "# il rapporto iniziale.\n",
    "\n",
    "import os\n",
    "\n",
    "path_dataset_men = \"C:\\\\Users\\gioel\\PycharmProjects\\CVandDL\\dataset_classificazione\\men\"\n",
    "path_dataset_women = \"C:\\\\Users\\gioel\\PycharmProjects\\CVandDL\\dataset_classificazione\\women\"\n",
    "\n",
    "imgs_list_men = [os.path.join(path_dataset_men, img_name) for img_name in sorted(os.listdir(path_dataset_men))]\n",
    "imgs_list_women = [os.path.join(path_dataset_women, img_name) for img_name in sorted(os.listdir(path_dataset_women))]\n",
    "\n",
    "\n",
    "to_augment_men = {'polyurethane': 0, 'canvas': 0, 'polyester': 0, 'cow-leather': 0, 'raffia': 0, 'goat-leather': 0}\n",
    "to_augment_women = {'polyurethane': 0, 'canvas': 0, 'polyester': 0, 'cow-leather': 0, 'raffia': 0, 'goat-leather': 0}\n",
    "\n",
    "for image_path in imgs_list_men:\n",
    "\tmaterial = image_path.split('\\\\').pop().split(\"_\").pop().split(\".\")[0]\n",
    "\tif material in to_augment_men.keys():\n",
    "\t\tto_augment_men[material] += 1\n",
    "\n",
    "\n",
    "print(\"men = \" + str(to_augment_men))\n",
    "\n",
    "for image_path in imgs_list_women:\n",
    "\tmaterial = image_path.split('\\\\').pop().split(\"_\").pop().split(\".\")[0]\n",
    "\tif material in to_augment_women.keys():\n",
    "\t\tto_augment_women[material] += 1\n",
    "\n",
    "print(\"women = \" + str(to_augment_women))"
   ],
   "metadata": {
    "collapsed": false,
    "ExecuteTime": {
     "end_time": "2023-06-14T15:33:01.327495Z",
     "start_time": "2023-06-14T15:33:01.208898100Z"
    }
   }
  },
  {
   "cell_type": "code",
   "execution_count": 56,
   "outputs": [],
   "source": [
    "to_augment_men = {'polyurethane': 15, 'canvas': 3, 'polyester': 13, 'cow-leather': 3, 'raffia': 1, 'goat-leather': 0}\n",
    "to_augment_women = {'polyurethane': 19, 'canvas': 15, 'polyester': 11, 'cow-leather': 84, 'raffia': 19, 'goat-leather': 13}\n",
    "to_augment_total = {'polyurethane': 34, 'canvas': 18, 'polyester': 24, 'cow-leather': 87, 'raffia': 20, 'goat-leather': 13}"
   ],
   "metadata": {
    "collapsed": false,
    "ExecuteTime": {
     "end_time": "2023-06-14T15:33:01.327495Z",
     "start_time": "2023-06-14T15:33:01.249150100Z"
    }
   }
  },
  {
   "cell_type": "code",
   "execution_count": 57,
   "outputs": [],
   "source": [
    "def calculate_number_of_image_to_create(to_augment_men, to_augment_women, to_augment_total):\n",
    "\ttotal_image_to_create = 100\n",
    "\tresult = {}\n",
    "\tfor material in to_augment_total.keys():\n",
    "\t\tnumber_of_image_to_create = total_image_to_create - to_augment_total[material]\n",
    "\t\tratio_woman = to_augment_women[material]/to_augment_total[material]\n",
    "\t\tratio_man = to_augment_men[material]/to_augment_total[material]\n",
    "\t\tnumber_of_image_to_create_woman = round(number_of_image_to_create * ratio_woman)\n",
    "\t\tnumber_of_image_to_create_man = round(number_of_image_to_create * ratio_man)\n",
    "\t\tresult[material+\"_women\"] = number_of_image_to_create_woman\n",
    "\t\tresult[material+\"_men\"] = number_of_image_to_create_man\n",
    "\treturn result\n",
    "\n"
   ],
   "metadata": {
    "collapsed": false,
    "ExecuteTime": {
     "end_time": "2023-06-14T15:33:01.327495Z",
     "start_time": "2023-06-14T15:33:01.249150100Z"
    }
   }
  },
  {
   "cell_type": "code",
   "execution_count": 58,
   "outputs": [
    {
     "name": "stdout",
     "output_type": "stream",
     "text": [
      "{'polyurethane_women': 37, 'polyurethane_men': 29, 'canvas_women': 68, 'canvas_men': 14, 'polyester_women': 35, 'polyester_men': 41, 'cow-leather_women': 13, 'cow-leather_men': 0, 'raffia_women': 76, 'raffia_men': 4, 'goat-leather_women': 87, 'goat-leather_men': 0}\n"
     ]
    }
   ],
   "source": [
    "print(calculate_number_of_image_to_create(to_augment_men, to_augment_women, to_augment_total))"
   ],
   "metadata": {
    "collapsed": false,
    "ExecuteTime": {
     "end_time": "2023-06-14T15:33:01.327495Z",
     "start_time": "2023-06-14T15:33:01.264528Z"
    }
   }
  },
  {
   "cell_type": "code",
   "execution_count": null,
   "outputs": [],
   "source": [
    "from keras.preprocessing.image import ImageDataGenerator\n",
    "from keras.utils import img_to_array, load_img\n",
    "\n",
    "def augment_data(img, path_to_save, brand_name, materials, number_of_supports_to_create, n_image):\n",
    "\tdatagen = ImageDataGenerator(\n",
    "\t\t\trotation_range = 60,\n",
    "\t\t\tzoom_range = 0.1,\n",
    "\t\t\tbrightness_range = (0.5,1.5),\n",
    "\t\t\thorizontal_flip = True,\n",
    "\t\t\tvertical_flip = True,\n",
    "\t\t\tshear_range = 0.2\n",
    "\t\t\t)\n",
    "\n",
    "\timg = load_img(img)\n",
    "# Converting the input sample image to an array\n",
    "\tx = img_to_array(img)\n",
    "\t# Reshaping the input image\n",
    "\tx = x.reshape((1, ) + x.shape)\n",
    "\n",
    "\t# Generating and saving 5 augmented samples\n",
    "\t# using the above defined parameters.\n",
    "\tindex = 0\n",
    "\twhile number_of_supports_to_create > 0 :\n",
    "\t\tfor batch in datagen.flow(x, batch_size = 1,\n",
    "\t\t\t\t\t\t\t\tsave_to_dir = path_to_save,\n",
    "\t\t\t\t\t\t\t\tsave_prefix = str(n_image+ index)+\"_\"+brand_name+\"_\"+materials, save_format ='jpg'):\n",
    "\t\t\tbreak\n",
    "\t\tnumber_of_supports_to_create -= 1\n",
    "\t\tindex += 1\n"
   ],
   "metadata": {
    "collapsed": false
   }
  },
  {
   "cell_type": "code",
   "execution_count": 59,
   "outputs": [
    {
     "name": "stdout",
     "output_type": "stream",
     "text": [
      "polyurethane da creare: 2\n",
      "polyester da creare: 3\n",
      "polyurethane da creare: 2\n",
      "polyurethane da creare: 2\n",
      "polyester da creare: 3\n",
      "polyurethane da creare: 2\n",
      "polyurethane da creare: 2\n",
      "polyester da creare: 3\n",
      "polyurethane da creare: 2\n",
      "polyurethane da creare: 2\n",
      "polyester da creare: 3\n",
      "polyester da creare: 3\n",
      "polyurethane da creare: 2\n",
      "polyester da creare: 3\n",
      "raffia da creare: 4\n",
      "canvas da creare: 5\n",
      "polyurethane da creare: 2\n",
      "canvas da creare: 5\n",
      "polyester da creare: 3\n",
      "polyester da creare: 3\n",
      "canvas da creare: 5\n",
      "polyurethane da creare: 2\n",
      "polyester da creare: 3\n",
      "polyurethane da creare: 2\n",
      "polyester da creare: 3\n",
      "polyurethane da creare: 2\n",
      "polyester da creare: 3\n",
      "polyester da creare: 3\n",
      "cow-leather da creare: 0\n",
      "polyurethane da creare: 2\n",
      "polyurethane da creare: 2\n",
      "polyester da creare: 3\n",
      "cow-leather da creare: 0\n",
      "cow-leather da creare: 0\n",
      "polyurethane da creare: 2\n"
     ]
    }
   ],
   "source": [
    "path_augmented_men = \"C:\\\\Users\\gioel\\PycharmProjects\\CVandDL\\dataset_classificazione\\\\augmented_men\"\n",
    "path_augmented_women = \"C:\\\\Users\\gioel\\PycharmProjects\\CVandDL\\dataset_classificazione\\\\augmented_women\"\n",
    "\n",
    "imgs_list = imgs_list_men + imgs_list_women\n",
    "\n",
    "\n",
    "to_create = calculate_number_of_image_to_create(to_augment_men, to_augment_women,to_augment_total)\n",
    "\n",
    "id_contatore = 1402\n",
    "\n",
    "for image in imgs_list:\n",
    "\timg_material = image.split('\\\\').pop().split(\"_\").pop().split(\".\")[0]\n",
    "\tif img_material in to_augment_total.keys():\n",
    "\t\timg_brand = image.split('\\\\').pop().split(\"_\")[1]\n",
    "\n",
    "\t\tif '\\\\'.join(image.split(\"\\\\\")[:-1]) == path_dataset_men:\n",
    "\t\t\tnumber_of_this_image_to_create = round(to_create[img_material+\"_men\"]/to_augment_men[img_material])\n",
    "\t\t\tprint(img_material + \" da creare: \" +str(number_of_this_image_to_create))\n",
    "\t\t\taugment_data(image, path_augmented_men, img_brand, img_material, number_of_this_image_to_create, id_contatore)\n",
    "\t\t\tid_contatore += number_of_this_image_to_create\n",
    "\n",
    "\n",
    "\t\telif '\\\\'.join(image.split(\"\\\\\")[:-1]) == path_dataset_women:\n",
    "\t\t\tnumber_of_this_image_to_create = round(to_create[img_material+\"_women\"]/to_augment_women[img_material])\n",
    "\t\t\taugment_data(image, path_augmented_women, img_brand, img_material, number_of_this_image_to_create, id_contatore)\n",
    "\t\t\tid_contatore += number_of_this_image_to_create"
   ],
   "metadata": {
    "collapsed": false,
    "ExecuteTime": {
     "end_time": "2023-06-14T15:34:51.801186700Z",
     "start_time": "2023-06-14T15:33:01.296249400Z"
    }
   }
  },
  {
   "cell_type": "code",
   "execution_count": 60,
   "outputs": [],
   "source": [
    "import hashlib\n",
    "import os\n",
    "def remove_duplicates(dataset_path):\n",
    "\thashes = set()\n",
    "\tequals = []\n",
    "\tfor filename in sorted(os.listdir(dataset_path)):\n",
    "\t\tpath = os.path.join(dataset_path, filename)\n",
    "\t\tdigest = hashlib.sha1(open(path,'rb').read()).digest()\n",
    "\t\tif digest not in hashes:\n",
    "\t\t\thashes.add(digest)\n",
    "\t\telse:\n",
    "\t\t\tprint(\"Trovato un duplicato.\")\n",
    "\t\t\tos.remove(path)\n",
    "\t\t\tprint(\"Rimosso duplicato: \"+ path)\n",
    "\t\t\tequals.append(path)\n",
    "\tprint(\"I duplicati in \" +dataset_path +\" erano: \")\n",
    "\tprint(equals)"
   ],
   "metadata": {
    "collapsed": false,
    "ExecuteTime": {
     "end_time": "2023-06-14T15:34:51.811300800Z",
     "start_time": "2023-06-14T15:34:51.801186700Z"
    }
   }
  },
  {
   "cell_type": "code",
   "execution_count": 61,
   "outputs": [
    {
     "name": "stdout",
     "output_type": "stream",
     "text": [
      "I duplicati in C:\\Users\\gioel\\PycharmProjects\\CVandDL\\dataset_classificazione\\augmented_men erano: \n",
      "[]\n",
      "I duplicati in C:\\Users\\gioel\\PycharmProjects\\CVandDL\\dataset_classificazione\\augmented_women erano: \n",
      "[]\n"
     ]
    }
   ],
   "source": [
    "remove_duplicates('C:\\\\Users\\gioel\\PycharmProjects\\CVandDL\\dataset_classificazione\\\\augmented_men')\n",
    "remove_duplicates('C:\\\\Users\\gioel\\PycharmProjects\\CVandDL\\dataset_classificazione\\\\augmented_women')"
   ],
   "metadata": {
    "collapsed": false,
    "ExecuteTime": {
     "end_time": "2023-06-14T15:34:52.004327700Z",
     "start_time": "2023-06-14T15:34:51.816329500Z"
    }
   }
  },
  {
   "cell_type": "code",
   "execution_count": 62,
   "outputs": [],
   "source": [
    "# Rename definitivo (datagen.flow creava immagini col prefisso giusto ma con un suffisso in più\n",
    "\n",
    "for filename in sorted(os.listdir(path_augmented_women)):\n",
    "\tos.rename(os.path.join(path_augmented_women,filename), os.path.join(path_augmented_women,'_'.join(filename.split(\"_\")[:-2])+\".jpg\"))\n",
    "\n",
    "for filename in sorted(os.listdir(path_augmented_men)):\n",
    "\tos.rename(os.path.join(path_augmented_men,filename), os.path.join(path_augmented_men,'_'.join(filename.split(\"_\")[:-2])+\".jpg\"))"
   ],
   "metadata": {
    "collapsed": false,
    "ExecuteTime": {
     "end_time": "2023-06-14T15:34:52.208353500Z",
     "start_time": "2023-06-14T15:34:52.004327700Z"
    }
   }
  },
  {
   "cell_type": "code",
   "execution_count": 62,
   "outputs": [],
   "source": [],
   "metadata": {
    "collapsed": false,
    "ExecuteTime": {
     "end_time": "2023-06-14T15:34:52.210718100Z",
     "start_time": "2023-06-14T15:34:52.210718100Z"
    }
   }
  }
 ],
 "metadata": {
  "kernelspec": {
   "display_name": "Python 3",
   "language": "python",
   "name": "python3"
  },
  "language_info": {
   "codemirror_mode": {
    "name": "ipython",
    "version": 2
   },
   "file_extension": ".py",
   "mimetype": "text/x-python",
   "name": "python",
   "nbconvert_exporter": "python",
   "pygments_lexer": "ipython2",
   "version": "2.7.6"
  }
 },
 "nbformat": 4,
 "nbformat_minor": 0
}
