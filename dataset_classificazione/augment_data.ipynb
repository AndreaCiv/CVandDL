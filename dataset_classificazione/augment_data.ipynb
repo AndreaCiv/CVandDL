{
 "cells": [
  {
   "cell_type": "code",
   "execution_count": 38,
   "metadata": {
    "collapsed": true,
    "ExecuteTime": {
     "end_time": "2023-06-13T15:20:31.641221200Z",
     "start_time": "2023-06-13T15:20:03.706576400Z"
    }
   },
   "outputs": [],
   "source": [
    "from keras.preprocessing.image import ImageDataGenerator\n",
    "from keras.utils import img_to_array, load_img\n",
    "import merge_datasets\n",
    "# Initialising the ImageDataGenerator class.\n",
    "# We will pass in the augmentation parameters in the constructor.\n",
    "def augment_data(index, brand_name, materials, numer_of_supports):\n",
    "\tdatagen = ImageDataGenerator(\n",
    "\t\t\trotation_range = 60,\n",
    "\t\t\tzoom_range = 0.14,\n",
    "\t\t\tbrightness_range = (0.2, 1.5),\n",
    "\t\t\thorizontal_flip = True,\n",
    "\t\t\tvertical_flip = True,\n",
    "\t\t\tshear_range = 0.2\n",
    "\t\t\t)\n",
    "\t# Dictionary with elements with less supports => {\"material_name\": number_of_supports\"}\n",
    "\tto_augment = {'polyurethane': 34, 'canvas': 18, 'polyester': 24, 'cow-leather': 87, 'raffia': 20, 'goat-leather': 13}\n",
    "\n",
    "\t# Loading a sample image\n",
    "\timg = load_img(\"men\\\\0_BALENCIAGA_leather.jpg\")\n",
    "\t# Converting the input sample image to an array\n",
    "\tx = img_to_array(img)\n",
    "\t# Reshaping the input image\n",
    "\tx = x.reshape((1, ) + x.shape)\n",
    "\n",
    "\t# Generating and saving 5 augmented samples\n",
    "\t# using the above defined parameters.\n",
    "\ti = 0\n",
    "\tfor batch in datagen.flow(x, batch_size = 1,\n",
    "\t\t\t\t\t\t\tsave_to_dir ='C:\\\\Users\\gioel\\PycharmProjects\\CVandDL\\dataset_classificazione\\\\augmented_men',\n",
    "\t\t\t\t\t\t\tsave_prefix ='image', save_format ='jpg'):\n",
    "\t\ti += 1\n",
    "\t\tif i > 100:\n",
    "\t\t\tbreak\n"
   ]
  },
  {
   "cell_type": "code",
   "execution_count": 56,
   "outputs": [],
   "source": [
    "import hashlib\n",
    "import os\n",
    "def remove_duplicates():\n",
    "\thashes = set()\n",
    "\tequals = []\n",
    "\tdataset_path = 'C:\\\\Users\\gioel\\PycharmProjects\\CVandDL\\dataset_classificazione\\\\augmented_men'\n",
    "\tfor filename in sorted(os.listdir(dataset_path)):\n",
    "\t\tpath = os.path.join(dataset_path, filename)\n",
    "\t\tdigest = hashlib.sha1(open(path,'rb').read()).digest()\n",
    "\t\tif digest not in hashes:\n",
    "\t\t\thashes.add(digest)\n",
    "\t\telse:\n",
    "\t\t\tprint(\"Trovato un duplicato.\")\n",
    "\t\t\tos.remove(path)\n",
    "\t\t\tprint(\"Rimosso duplicato: \"+ path)\n",
    "\t\t\tequals.append(path)\n",
    "\tprint(\"-------------------------------------------------\")\n",
    "\tprint(\"I duplicati erano: \")\n",
    "\tprint(equals)"
   ],
   "metadata": {
    "collapsed": false,
    "ExecuteTime": {
     "end_time": "2023-06-13T15:51:55.019755200Z",
     "start_time": "2023-06-13T15:51:54.999058900Z"
    }
   }
  },
  {
   "cell_type": "code",
   "execution_count": 58,
   "outputs": [
    {
     "name": "stdout",
     "output_type": "stream",
     "text": [
      "['C:\\\\Users\\\\gioel\\\\PycharmProjects\\\\CVandDL\\\\dataset_classificazione\\\\augmented_men\\\\sbimmete.jpg', 'C:\\\\Users\\\\gioel\\\\PycharmProjects\\\\CVandDL\\\\dataset_classificazione\\\\augmented_men\\\\stract.jpg']\n"
     ]
    }
   ],
   "source": [
    "remove_duplicates()"
   ],
   "metadata": {
    "collapsed": false,
    "ExecuteTime": {
     "end_time": "2023-06-13T15:52:29.669691800Z",
     "start_time": "2023-06-13T15:52:29.622091100Z"
    }
   }
  }
 ],
 "metadata": {
  "kernelspec": {
   "display_name": "Python 3",
   "language": "python",
   "name": "python3"
  },
  "language_info": {
   "codemirror_mode": {
    "name": "ipython",
    "version": 2
   },
   "file_extension": ".py",
   "mimetype": "text/x-python",
   "name": "python",
   "nbconvert_exporter": "python",
   "pygments_lexer": "ipython2",
   "version": "2.7.6"
  }
 },
 "nbformat": 4,
 "nbformat_minor": 0
}
