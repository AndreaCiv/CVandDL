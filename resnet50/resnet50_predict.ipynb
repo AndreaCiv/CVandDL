{
 "cells": [
  {
   "cell_type": "code",
   "execution_count": 1,
   "metadata": {
    "collapsed": true,
    "ExecuteTime": {
     "end_time": "2023-06-22T14:42:26.481339Z",
     "start_time": "2023-06-22T14:42:14.071772Z"
    }
   },
   "outputs": [
    {
     "name": "stderr",
     "output_type": "stream",
     "text": [
      "2023-06-22 16:42:18.475874: I tensorflow/core/platform/cpu_feature_guard.cc:182] This TensorFlow binary is optimized to use available CPU instructions in performance-critical operations.\n",
      "To enable the following instructions: AVX2 FMA, in other operations, rebuild TensorFlow with the appropriate compiler flags.\n"
     ]
    }
   ],
   "source": [
    "import os\n",
    "import tensorflow as tf\n",
    "import cv2\n",
    "import ntpath\n",
    "import numpy as np"
   ]
  },
  {
   "cell_type": "code",
   "execution_count": 19,
   "outputs": [],
   "source": [
    "weights_path = \"/Users/andreacivitarese/PycharmProjects/CVandDL/resnet50/weights/weights_resnet_continued_notfrozen_15_lr_0.001_dropout_0.5_batch_size_32_pooling_max.h5\"\n",
    "\n",
    "image_to_predict_path = \"/Users/andreacivitarese/PycharmProjects/CVandDL/dataset_classificazione/women/249_TOD'S_leather.jpg\"\n",
    "input_shape = (224, 224)\n",
    "\n",
    "possible_materials = {\"goat-lether\":0, \"raffia\":1, \"polyurethane\":2, \"calf-leather\":3, \"leather\":4, \"fabric\":6, \"lamb-leather\":5, \"polyester\":9, \"cow-leather\":7, \"canvas\":8}"
   ],
   "metadata": {
    "collapsed": false,
    "ExecuteTime": {
     "end_time": "2023-06-22T15:02:10.243662Z",
     "start_time": "2023-06-22T15:02:10.240302Z"
    }
   }
  },
  {
   "cell_type": "code",
   "execution_count": 20,
   "outputs": [],
   "source": [
    "img = cv2.imread(image_to_predict_path)\n",
    "img = cv2.resize(img, input_shape)\n",
    "img = tf.keras.applications.resnet50.preprocess_input(img)\n",
    "img = np.asarray([img])\n",
    "\n",
    "head, image_name = ntpath.split(image_to_predict_path)\n",
    "material = image_name.split('_')[2].split('.')[0]\n",
    "label = np.zeros(shape=10, dtype=float)\n",
    "index = possible_materials[material]\n",
    "label[index] = 1"
   ],
   "metadata": {
    "collapsed": false,
    "ExecuteTime": {
     "end_time": "2023-06-22T15:02:11.640629Z",
     "start_time": "2023-06-22T15:02:11.604358Z"
    }
   }
  },
  {
   "cell_type": "code",
   "execution_count": 21,
   "outputs": [
    {
     "name": "stdout",
     "output_type": "stream",
     "text": [
      "Model: \"sequential_4\"\n",
      "_________________________________________________________________\n",
      " Layer (type)                Output Shape              Param #   \n",
      "=================================================================\n",
      " resnet50 (Functional)       (None, 2048)              23587712  \n",
      "                                                                 \n",
      " flatten_4 (Flatten)         (None, 2048)              0         \n",
      "                                                                 \n",
      " dense_12 (Dense)            (None, 1024)              2098176   \n",
      "                                                                 \n",
      " dropout_8 (Dropout)         (None, 1024)              0         \n",
      "                                                                 \n",
      " dense_13 (Dense)            (None, 512)               524800    \n",
      "                                                                 \n",
      " dropout_9 (Dropout)         (None, 512)               0         \n",
      "                                                                 \n",
      " dense_14 (Dense)            (None, 10)                5130      \n",
      "                                                                 \n",
      "=================================================================\n",
      "Total params: 26,215,818\n",
      "Trainable params: 8,148,490\n",
      "Non-trainable params: 18,067,328\n",
      "_________________________________________________________________\n"
     ]
    }
   ],
   "source": [
    "resnet = tf.keras.applications.resnet50.ResNet50(\n",
    "        input_shape=(224, 224, 3),  # Making the image into 3 Channel\n",
    "        weights='imagenet',\n",
    "        include_top=False,\n",
    "        pooling='max'\n",
    "    )\n",
    "for layer in resnet.layers[:-15]:\n",
    "    layer.trainable = False\n",
    "model = tf.keras.Sequential()\n",
    "model.add(resnet)\n",
    "model.add(tf.keras.layers.Flatten())\n",
    "model.add(tf.keras.layers.Dense(1024, activation='relu'))\n",
    "model.add(tf.keras.layers.Dropout(0.5))\n",
    "model.add(tf.keras.layers.Dense(512, activation='relu'))\n",
    "model.add(tf.keras.layers.Dropout(0.5))\n",
    "model.add(tf.keras.layers.Dense(10, activation='softmax'))\n",
    "model.summary()\n",
    "\n",
    "model.compile(loss=\"categorical_crossentropy\", metrics=\"Recall\",\n",
    "                  optimizer=tf.keras.optimizers.SGD(learning_rate=0.001, momentum=0.9))\n",
    "\n",
    "model.load_weights(weights_path)"
   ],
   "metadata": {
    "collapsed": false,
    "ExecuteTime": {
     "end_time": "2023-06-22T15:02:17.135252Z",
     "start_time": "2023-06-22T15:02:12.280153Z"
    }
   }
  },
  {
   "cell_type": "code",
   "execution_count": 22,
   "outputs": [
    {
     "name": "stdout",
     "output_type": "stream",
     "text": [
      "1/1 [==============================] - 3s 3s/step\n",
      "ground truth: [0. 0. 0. 0. 1. 0. 0. 0. 0. 0.]\n",
      "prediction: [[0.0060548  0.00245433 0.00745299 0.32220435 0.4934124  0.01780049\n",
      "  0.01154362 0.13468681 0.00248768 0.00190249]]\n",
      "materiale ground truth: leather\n",
      "materiale predetto: leather\n"
     ]
    }
   ],
   "source": [
    "prediction = model.predict(img)\n",
    "pred_class = np.argmax(prediction, 1)\n",
    "print('ground truth: ' + str(label))\n",
    "print('prediction: ' + str(prediction))\n",
    "print('materiale ground truth: ' + material)\n",
    "\n",
    "for key in possible_materials.keys():\n",
    "    if possible_materials[key] == pred_class:\n",
    "        print('materiale predetto: ' + key)\n"
   ],
   "metadata": {
    "collapsed": false,
    "ExecuteTime": {
     "end_time": "2023-06-22T15:02:21.578046Z",
     "start_time": "2023-06-22T15:02:18.301376Z"
    }
   }
  },
  {
   "cell_type": "code",
   "execution_count": null,
   "outputs": [],
   "source": [],
   "metadata": {
    "collapsed": false
   }
  }
 ],
 "metadata": {
  "kernelspec": {
   "display_name": "Python 3",
   "language": "python",
   "name": "python3"
  },
  "language_info": {
   "codemirror_mode": {
    "name": "ipython",
    "version": 2
   },
   "file_extension": ".py",
   "mimetype": "text/x-python",
   "name": "python",
   "nbconvert_exporter": "python",
   "pygments_lexer": "ipython2",
   "version": "2.7.6"
  }
 },
 "nbformat": 4,
 "nbformat_minor": 0
}
